{
 "cells": [
  {
   "cell_type": "code",
   "execution_count": null,
   "id": "27e694d5",
   "metadata": {},
   "outputs": [],
   "source": [
    "Question 1\n",
    "\n",
    "Given a non-negative integer `x`, return *the square root of* `x` *rounded down to the nearest integer*. The returned integer should be **non-negative** as well.\n",
    "\n",
    "You **must not use** any built-in exponent function or operator.\n",
    "\n",
    "- For example, do not use `pow(x, 0.5)` in c++ or `x ** 0.5` in python."
   ]
  },
  {
   "cell_type": "code",
   "execution_count": 7,
   "id": "cc078ba3",
   "metadata": {},
   "outputs": [
    {
     "name": "stdout",
     "output_type": "stream",
     "text": [
      "3\n"
     ]
    }
   ],
   "source": [
    "def sqrRoot(x):\n",
    "    s,l=0,x\n",
    "    mid=(s+l)//2\n",
    "    while(s<=l):\n",
    "        if(mid*mid<=x):\n",
    "            s=mid+1\n",
    "        else:\n",
    "            l=mid-1\n",
    "        mid=(s+l)//2\n",
    "    return l\n",
    "x=9\n",
    "print(sqrRoot(x))\n",
    "    "
   ]
  },
  {
   "cell_type": "code",
   "execution_count": null,
   "id": "3552ec55",
   "metadata": {},
   "outputs": [],
   "source": [
    "Question 2\n",
    "\n",
    "A peak element is an element that is strictly greater than its neighbors.\n",
    "\n",
    "Given a **0-indexed** integer array `nums`, find a peak element, and return its index. If the array contains multiple peaks, return the index to **any of the peaks**.\n",
    "\n",
    "You may imagine that `nums[-1] = nums[n] = -∞`. In other words, an element is always considered to be strictly greater than a neighbor that is outside the array.\n",
    "\n",
    "You must write an algorithm that runs in `O(log n)` time."
   ]
  },
  {
   "cell_type": "code",
   "execution_count": 16,
   "id": "d66a9291",
   "metadata": {},
   "outputs": [
    {
     "name": "stdout",
     "output_type": "stream",
     "text": [
      "4\n"
     ]
    }
   ],
   "source": [
    "def peak(arr):\n",
    "    s,l=0,len(arr)-1\n",
    "    mid=(s+l)//2\n",
    "    while(s<l):\n",
    "        \n",
    "        if(arr[mid]<arr[mid+1]):\n",
    "            s=mid+1\n",
    "        else:\n",
    "            l=mid\n",
    "        mid=(s+l)//2\n",
    "    return arr[s]\n",
    "arr=[1,2,3,4,1]\n",
    "print(peak(arr))"
   ]
  },
  {
   "cell_type": "code",
   "execution_count": null,
   "id": "7b52b6aa",
   "metadata": {},
   "outputs": [],
   "source": [
    "Question 3\n",
    "\n",
    "Given an array nums containing n distinct numbers in the range [0, n], return the only number in the range that is missing from the array."
   ]
  },
  {
   "cell_type": "code",
   "execution_count": 23,
   "id": "c8d9c64e",
   "metadata": {},
   "outputs": [
    {
     "name": "stdout",
     "output_type": "stream",
     "text": [
      "5\n"
     ]
    }
   ],
   "source": [
    "def missingNum(arr):\n",
    "    res=len(arr)\n",
    "    for i in range(len(arr)):\n",
    "        res+=(i-arr[i])\n",
    "    return res\n",
    "arr=[0,1,3,4,2]\n",
    "print(missingNum(arr))"
   ]
  },
  {
   "cell_type": "code",
   "execution_count": null,
   "id": "ea533a68",
   "metadata": {},
   "outputs": [],
   "source": [
    "Question 4\n",
    "\n",
    "Given an array of integers `nums` containing `n + 1` integers where each integer is in the range `[1, n]` inclusive.\n",
    "\n",
    "There is only **one repeated number** in `nums`, return *this repeated number*.\n",
    "\n",
    "You must solve the problem **without** modifying the array `nums` and uses only constant extra space."
   ]
  },
  {
   "cell_type": "code",
   "execution_count": 27,
   "id": "a3d16802",
   "metadata": {},
   "outputs": [
    {
     "name": "stdout",
     "output_type": "stream",
     "text": [
      "5\n"
     ]
    }
   ],
   "source": [
    "def findDuplicate(arr):\n",
    "    slow,fast=0,0\n",
    "    while(True):\n",
    "        slow=arr[slow]\n",
    "        fast=arr[arr[fast]]\n",
    "        if (slow==fast):\n",
    "            break\n",
    "    slow2=0\n",
    "    while(True):\n",
    "        slow=arr[slow]\n",
    "        slow2=arr[slow2]\n",
    "        if(slow==slow2):\n",
    "            return slow\n",
    "arr=[2,1,3,4,5,5,6]\n",
    "print(findDuplicate(arr))"
   ]
  },
  {
   "cell_type": "code",
   "execution_count": null,
   "id": "96a2376e",
   "metadata": {},
   "outputs": [],
   "source": [
    "Question 5\n",
    "\n",
    "Given two integer arrays nums1 and nums2, return an array of their intersection. Each element in the result must be unique and you may return the result in any order."
   ]
  },
  {
   "cell_type": "code",
   "execution_count": 32,
   "id": "1bd2b215",
   "metadata": {},
   "outputs": [
    {
     "name": "stdout",
     "output_type": "stream",
     "text": [
      "[2]\n"
     ]
    }
   ],
   "source": [
    "def binarySearch(numOne, numTwo):\n",
    "        numTwo.sort()\n",
    "        result = []\n",
    "        seen = set()\n",
    "        for num in numOne:\n",
    "            if binarySearchHelper(numTwo, num) and num not in seen:\n",
    "                result.append(num)\n",
    "                seen.add(num)\n",
    "            seen.add(num)\n",
    "                \n",
    "        return result\n",
    "    \n",
    "def binarySearchHelper(numOne, num):\n",
    "        left, right = 0, len(numOne) - 1\n",
    "        while left <= right:\n",
    "            mid = (left + right) // 2 \n",
    "\n",
    "            if numOne[mid] == num:\n",
    "                return True\n",
    "\n",
    "            elif numOne[mid] < num:\n",
    "                left = mid + 1\n",
    "            else:\n",
    "                right = mid - 1 \n",
    "\n",
    "\n",
    "        return False\n",
    "numOne = [1,2,3,1]\n",
    "numTwo = [2,2]\n",
    "print(binarySearch(numOne, numTwo))"
   ]
  },
  {
   "cell_type": "code",
   "execution_count": null,
   "id": "4fcbab78",
   "metadata": {},
   "outputs": [],
   "source": [
    "Question 6\n",
    "\n",
    "Suppose an array of length `n` sorted in ascending order is **rotated** between `1` and `n` times. For example, the array `nums = [0,1,2,4,5,6,7]` might become:\n",
    "\n",
    "- `[4,5,6,7,0,1,2]` if it was rotated `4` times.\n",
    "- `[0,1,2,4,5,6,7]` if it was rotated `7` times.\n",
    "\n",
    "Notice that **rotating** an array `[a[0], a[1], a[2], ..., a[n-1]]` 1 time results in the array `[a[n-1], a[0], a[1], a[2], ..., a[n-2]]`.\n",
    "\n",
    "Given the sorted rotated array `nums` of **unique** elements, return *the minimum element of this array*.\n",
    "\n",
    "You must write an algorithm that runs in `O(log n) time.`"
   ]
  },
  {
   "cell_type": "code",
   "execution_count": 37,
   "id": "9ee8b6fd",
   "metadata": {},
   "outputs": [
    {
     "name": "stdout",
     "output_type": "stream",
     "text": [
      "0\n"
     ]
    }
   ],
   "source": [
    "def FindMin(arr):\n",
    "    res=arr[0]\n",
    "    s,l=0,len(arr)-1\n",
    "    while(s<=l):\n",
    "        if(arr[s]<arr[l]):\n",
    "            res=min(res,arr[s])\n",
    "            break\n",
    "        mid=(s+l)//2\n",
    "        res=min(res,arr[mid])\n",
    "        if(arr[mid]>=arr[s]):\n",
    "            s=mid+1\n",
    "        else:\n",
    "            l=mid-1\n",
    "    return res\n",
    "arr=[4,5,6,7,0,1,2]\n",
    "print(FindMin(arr))"
   ]
  },
  {
   "cell_type": "code",
   "execution_count": null,
   "id": "d86a6996",
   "metadata": {},
   "outputs": [],
   "source": [
    "Question 7\n",
    "\n",
    "Given an array of integers `nums` sorted in non-decreasing order, find the starting and ending position of a given `target` value.\n",
    "\n",
    "If `target` is not found in the array, return `[-1, -1]`.\n",
    "\n",
    "You must write an algorithm with `O(log n)` runtime complexity."
   ]
  },
  {
   "cell_type": "code",
   "execution_count": 41,
   "id": "e33971d9",
   "metadata": {},
   "outputs": [
    {
     "name": "stdout",
     "output_type": "stream",
     "text": [
      "[3, 4]\n"
     ]
    }
   ],
   "source": [
    "def searchRange(arr,tar):\n",
    "    left=binsearch(arr,tar,True)\n",
    "    right=binsearch(arr,tar,False)\n",
    "    return[left,right]\n",
    "def binsearch(arr,tar,bias):\n",
    "    l,r=0,len(arr)-1\n",
    "    i=-1\n",
    "    while(l<=r):\n",
    "        mid=(l+r)//2\n",
    "        if(tar>arr[mid]):\n",
    "            l=mid+1\n",
    "        elif(tar<arr[mid]):\n",
    "            r=mid-1\n",
    "        else:\n",
    "            i=mid\n",
    "            if bias:\n",
    "                r=mid-1\n",
    "            else:\n",
    "                l=mid+1\n",
    "    return i\n",
    "arr=[5,7,7,8,8,10]\n",
    "tar = 8\n",
    "print(searchRange(arr,tar))"
   ]
  },
  {
   "cell_type": "code",
   "execution_count": null,
   "id": "c30e7901",
   "metadata": {},
   "outputs": [],
   "source": [
    "Question 8\n",
    "\n",
    "Given two integer arrays nums1 and nums2, return an array of their intersection. Each element in the result must appear as many times as it shows in both arrays and you may return the result in any order."
   ]
  },
  {
   "cell_type": "code",
   "execution_count": 43,
   "id": "527006cf",
   "metadata": {},
   "outputs": [
    {
     "data": {
      "text/plain": [
       "[2, 2]"
      ]
     },
     "execution_count": 43,
     "metadata": {},
     "output_type": "execute_result"
    }
   ],
   "source": [
    "def intersect(nums1, nums2) :\n",
    "        \n",
    "        nums1.sort()\n",
    "        nums2.sort()\n",
    "        \n",
    "        \n",
    "        one=0\n",
    "        two=0\n",
    "        \n",
    "        ans=[]\n",
    "        \n",
    "        while one < len(nums1) and two < len(nums2):\n",
    "            \n",
    "            if nums1[one] < nums2[two]:\n",
    "                one+=1\n",
    "            elif nums2[two] < nums1[one]:\n",
    "                two+=1\n",
    "            else:\n",
    "                \n",
    "                ans.append(nums1[one])\n",
    "                one+=1\n",
    "                two+=1\n",
    "        return ans\n",
    "    \n",
    "nums1 = [1,2,2,1]\n",
    "nums2 = [2,2]\n",
    "intersect(nums1, nums2)"
   ]
  },
  {
   "cell_type": "code",
   "execution_count": null,
   "id": "8a51e1d5",
   "metadata": {},
   "outputs": [],
   "source": []
  }
 ],
 "metadata": {
  "kernelspec": {
   "display_name": "Python 3 (ipykernel)",
   "language": "python",
   "name": "python3"
  },
  "language_info": {
   "codemirror_mode": {
    "name": "ipython",
    "version": 3
   },
   "file_extension": ".py",
   "mimetype": "text/x-python",
   "name": "python",
   "nbconvert_exporter": "python",
   "pygments_lexer": "ipython3",
   "version": "3.9.12"
  }
 },
 "nbformat": 4,
 "nbformat_minor": 5
}
