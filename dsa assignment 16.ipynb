{
 "cells": [
  {
   "cell_type": "markdown",
   "id": "c58bb117",
   "metadata": {},
   "source": [
    "<aside>\n",
    "💡 **Question 1**\n",
    "\n",
    "Given an array, for each element find the value of the nearest element to the right which is having a frequency greater than that of the current element. If there does not exist an answer for a position, then make the value ‘-1’.\n",
    "\n",
    "</aside>"
   ]
  },
  {
   "cell_type": "code",
   "execution_count": 1,
   "id": "0f9a8af6",
   "metadata": {},
   "outputs": [
    {
     "name": "stdout",
     "output_type": "stream",
     "text": [
      "[-1, -1, 1, 2, 2, 1, -1]\n",
      "[2, 2, 2, -1, -1, -1, -1, 3, -1, -1]\n"
     ]
    }
   ],
   "source": [
    "def nearestGreaterFrequency(arr):\n",
    "    # Count the frequency of each element\n",
    "    frequency = {}\n",
    "    for num in arr:\n",
    "        frequency[num] = frequency.get(num, 0) + 1\n",
    "\n",
    "    # Use a stack to find the next greater frequency element\n",
    "    stack = []\n",
    "    result = [-1] * len(arr)\n",
    "\n",
    "    for i, num in enumerate(arr):\n",
    "        while stack and frequency[arr[stack[-1]]] < frequency[num]:\n",
    "            result[stack.pop()] = num\n",
    "        stack.append(i)\n",
    "\n",
    "    return result\n",
    "\n",
    "     \n",
    "arr = [1, 1, 2, 3, 4, 2, 1]\n",
    "print(nearestGreaterFrequency(arr))\n",
    "\n",
    "\n",
    "arr = [1, 1, 1, 2, 2, 2, 2, 11, 3, 3]\n",
    "print(nearestGreaterFrequency(arr))\n"
   ]
  },
  {
   "cell_type": "markdown",
   "id": "a15f400e",
   "metadata": {},
   "source": [
    "<aside>\n",
    "💡 **Question 2**\n",
    "\n",
    "Given a stack of integers, sort it in ascending order using another temporary stack.\n",
    "\n",
    "</aside>"
   ]
  },
  {
   "cell_type": "code",
   "execution_count": 2,
   "id": "080c4e75",
   "metadata": {},
   "outputs": [
    {
     "name": "stdout",
     "output_type": "stream",
     "text": [
      "[3, 23, 31, 34, 92, 98]\n",
      "[1, 2, 3, 4, 5, 8]\n"
     ]
    }
   ],
   "source": [
    "\n",
    "def sortStack(stack):\n",
    "    tempStack = []\n",
    "\n",
    "    while stack:\n",
    "        temp = stack.pop()\n",
    "\n",
    "        while tempStack and tempStack[-1] > temp:\n",
    "            stack.append(tempStack.pop())\n",
    "\n",
    "        tempStack.append(temp)\n",
    "\n",
    "    return tempStack\n",
    "stack = [34, 3, 31, 98, 92, 23]\n",
    "sortedStack = sortStack(stack)\n",
    "print(sortedStack)\n",
    "\n",
    "\n",
    "stack = [3, 5, 1, 4, 2, 8]\n",
    "sortedStack = sortStack(stack)\n",
    "print(sortedStack)\n"
   ]
  },
  {
   "cell_type": "markdown",
   "id": "512085ad",
   "metadata": {},
   "source": [
    "<aside>\n",
    "💡 **Question 3**\n",
    "\n",
    "Given a stack with **push()**, **pop()**, and **empty()** operations, The task is to delete the **middle** element ****of it without using any additional data structure.\n",
    "\n",
    "Input  : Stack[] = [1, 2, 3, 4, 5]\n",
    "\n",
    "Output : Stack[] = [1, 2, 4, 5]\n",
    "\n",
    "Input  : Stack[] = [1, 2, 3, 4, 5, 6]\n",
    "\n",
    "Output : Stack[] = [1, 2, 4, 5, 6]\n",
    "\n",
    "</aside>"
   ]
  },
  {
   "cell_type": "code",
   "execution_count": 3,
   "id": "ae527d5e",
   "metadata": {},
   "outputs": [
    {
     "name": "stdout",
     "output_type": "stream",
     "text": [
      "[1, 2, 4, 5]\n",
      "[1, 2, 4, 5, 6]\n"
     ]
    }
   ],
   "source": [
    "def deleteMiddle(stack):\n",
    "    size = len(stack)\n",
    "    middle_position = (size // 2) + 1\n",
    "\n",
    "    tempStack = []\n",
    "    for _ in range(middle_position - 1):\n",
    "        tempStack.append(stack.pop())\n",
    "\n",
    "    stack.pop()\n",
    "\n",
    "    while tempStack:\n",
    "        stack.append(tempStack.pop())\n",
    "\n",
    "    return stack\n",
    "\n",
    "stack = [1, 2, 3, 4, 5]\n",
    "modifiedStack = deleteMiddle(stack)\n",
    "print(modifiedStack)\n",
    "\n",
    "\n",
    "stack = [1, 2, 3, 4, 5, 6]\n",
    "modifiedStack = deleteMiddle(stack)\n",
    "print(modifiedStack)\n",
    "\n"
   ]
  },
  {
   "cell_type": "markdown",
   "id": "32700717",
   "metadata": {},
   "source": [
    "<aside>\n",
    "💡 **Question 4**\n",
    "\n",
    "Given a Queue consisting of first **n** natural numbers (in random order). The task is to check whether the given Queue elements can be arranged in increasing order in another Queue using a stack. The operation allowed are:\n",
    "\n",
    "1. Push and pop elements from the stack\n",
    "2. Pop (Or Dequeue) from the given Queue.\n",
    "3. Push (Or Enqueue) in the another Queue.\n",
    "\n",
    "**Examples :**\n",
    "\n",
    "Input : Queue[] = { 5, 1, 2, 3, 4 } \n",
    "\n",
    "Output : Yes \n",
    "\n",
    "Pop the first element of the given Queue \n",
    "\n",
    "i.e 5. Push 5 into the stack. \n",
    "\n",
    "Now, pop all the elements of the given Queue and push them to second Queue. \n",
    "\n",
    "Now, pop element 5 in the stack and push it to the second Queue.   \n",
    "\n",
    "Input : Queue[] = { 5, 1, 2, 6, 3, 4 } \n",
    "\n",
    "Output : No \n",
    "\n",
    "Push 5 to stack. \n",
    "\n",
    "Pop 1, 2 from given Queue and push it to another Queue. \n",
    "\n",
    "Pop 6 from given Queue and push to stack. \n",
    "\n",
    "Pop 3, 4 from given Queue and push to second Queue. \n",
    "\n",
    "Now, from using any of above operation, we cannot push 5 into the second Queue because it is below the 6 in the stack.\n",
    "\n",
    "</aside>"
   ]
  },
  {
   "cell_type": "code",
   "execution_count": 4,
   "id": "638e409e",
   "metadata": {},
   "outputs": [
    {
     "name": "stdout",
     "output_type": "stream",
     "text": [
      "Yes\n"
     ]
    }
   ],
   "source": [
    "\n",
    "from queue import Queue\n",
    "\n",
    "def checkIncreasingOrder(queue):\n",
    "    stack = []\n",
    "    secondQueue = Queue()\n",
    "    expected = 1\n",
    "\n",
    "    while not queue.empty():\n",
    "        element = queue.get()\n",
    "\n",
    "        if element == expected:\n",
    "            secondQueue.put(element)\n",
    "            expected += 1\n",
    "        elif element > expected:\n",
    "            stack.append(element)\n",
    "        elif element < expected:\n",
    "            if stack and stack[-1] == expected:\n",
    "                secondQueue.put(stack.pop())\n",
    "                expected += 1\n",
    "\n",
    "    while stack:\n",
    "        if stack[-1] == expected:\n",
    "            secondQueue.put(stack.pop())\n",
    "            expected += 1\n",
    "        else:\n",
    "            break\n",
    "\n",
    "    while not queue.empty():\n",
    "        secondQueue.put(queue.get())\n",
    "\n",
    "    while not secondQueue.empty():\n",
    "        queue.put(secondQueue.get())\n",
    "\n",
    "    return \"Yes\" if expected == queue.qsize() + 1 else \"No\"\n",
    "queue = Queue()\n",
    "queue.put(5)\n",
    "queue.put(1)\n",
    "queue.put(2)\n",
    "queue.put(3)\n",
    "queue.put(4)\n",
    "print(checkIncreasingOrder(queue))\n"
   ]
  },
  {
   "cell_type": "markdown",
   "id": "44985165",
   "metadata": {},
   "source": [
    "<aside>\n",
    "💡 **Question 5**\n",
    "\n",
    "Given a number , write a program to reverse this number using stack.\n",
    "\n",
    "</aside>"
   ]
  },
  {
   "cell_type": "code",
   "execution_count": 5,
   "id": "fe5bae81",
   "metadata": {},
   "outputs": [
    {
     "name": "stdout",
     "output_type": "stream",
     "text": [
      "563\n",
      "9986\n"
     ]
    }
   ],
   "source": [
    "def reverseNumber(number):\n",
    "    number_str = str(number)\n",
    "    stack = []\n",
    "\n",
    "    # Push each digit onto the stack\n",
    "    for digit in number_str:\n",
    "        stack.append(digit)\n",
    "\n",
    "\n",
    "    reversed_number_str = \"\"\n",
    "    while stack:\n",
    "        reversed_number_str += stack.pop()\n",
    "\n",
    "    # Convert the reversed number string back to an integer\n",
    "    reversed_number = int(reversed_number_str)\n",
    "\n",
    "    return reversed_number\n",
    "\n",
    "     \n",
    "\n",
    "number = 365\n",
    "print(reverseNumber(number))\n",
    "\n",
    "\n",
    "number = 6899\n",
    "print(reverseNumber(number))"
   ]
  },
  {
   "cell_type": "markdown",
   "id": "35e5f0d5",
   "metadata": {},
   "source": [
    "<aside>\n",
    "💡 **Question 6**\n",
    "\n",
    "Given an integer k and a **[queue](https://www.geeksforgeeks.org/queue-data-structure/)** of integers, The task is to reverse the order of the first **k** elements of the queue, leaving the other elements in the same relative order.\n",
    "\n",
    "Only following standard operations are allowed on queue.\n",
    "\n",
    "- **enqueue(x) :** Add an item x to rear of queue\n",
    "- **dequeue() :** Remove an item from front of queue\n",
    "- **size() :** Returns number of elements in queue.\n",
    "- **front() :** Finds front item.\n",
    "</aside>"
   ]
  },
  {
   "cell_type": "code",
   "execution_count": 6,
   "id": "d5268de0",
   "metadata": {},
   "outputs": [
    {
     "name": "stdout",
     "output_type": "stream",
     "text": [
      "3 2 1 4 5 "
     ]
    }
   ],
   "source": [
    "def reverseKElements(queue, k):\n",
    "    stack = []\n",
    "\n",
    "    # Dequeue the first k elements and push them onto the stack\n",
    "    for _ in range(k):\n",
    "        stack.append(queue.dequeue())\n",
    "\n",
    "    # Enqueue the elements from the stack back into the queue\n",
    "    while stack:\n",
    "        queue.enqueue(stack.pop())\n",
    "\n",
    "    # Dequeue the remaining elements\n",
    "\n",
    "    for i in range(queue.size() - k):\n",
    "        queue.enqueue(queue.dequeue())\n",
    "\n",
    "    return queue\n",
    "     \n",
    "\n",
    "class Queue:\n",
    "    def __init__(self):\n",
    "        self.items = []\n",
    "\n",
    "    def enqueue(self, item):\n",
    "        self.items.append(item)\n",
    "\n",
    "    def dequeue(self):\n",
    "        if self.is_empty():\n",
    "            return None\n",
    "        return self.items.pop(0)\n",
    "\n",
    "    def size(self):\n",
    "        return len(self.items)\n",
    "\n",
    "    def is_empty(self):\n",
    "        return len(self.items) == 0\n",
    "\n",
    "queue = Queue()\n",
    "queue.enqueue(1)\n",
    "queue.enqueue(2)\n",
    "queue.enqueue(3)\n",
    "queue.enqueue(4)\n",
    "queue.enqueue(5)\n",
    "\n",
    "k = 3\n",
    "result = reverseKElements(queue, k)\n",
    "\n",
    "while not result.is_empty():\n",
    "    print(result.dequeue(), end=\" \")"
   ]
  },
  {
   "cell_type": "markdown",
   "id": "ee92add6",
   "metadata": {},
   "source": [
    "<aside>\n",
    "💡 **Question 7**\n",
    "\n",
    "Given a sequence of n strings, the task is to check if any two similar words come together and then destroy each other then print the number of words left in the sequence after this pairwise destruction.\n",
    "\n",
    "**Examples:**\n",
    "\n",
    "Input : ab aa aa bcd ab\n",
    "\n",
    "Output : 3\n",
    "\n",
    "*As aa, aa destroys each other so,*\n",
    "\n",
    "*ab bcd ab is the new sequence.*\n",
    "\n",
    "Input :  tom jerry jerry tom\n",
    "\n",
    "Output : 0\n",
    "\n",
    "*As first both jerry will destroy each other.*\n",
    "\n",
    "*Then sequence will be tom, tom they will also destroy*\n",
    "\n",
    "*each other. So, the final sequence doesn’t contain any*\n",
    "\n",
    "*word.*\n",
    "\n",
    "</aside>"
   ]
  },
  {
   "cell_type": "code",
   "execution_count": 8,
   "id": "db8fdbbc",
   "metadata": {},
   "outputs": [
    {
     "name": "stdout",
     "output_type": "stream",
     "text": [
      "Enter the sequence of words: jhj\n",
      "Number of words left after pairwise destruction: 1\n"
     ]
    }
   ],
   "source": [
    "def check_pairwise_destruction(sequence):\n",
    "    stack = []\n",
    "    \n",
    "    for word in sequence:\n",
    "        if len(stack) > 0 and stack[-1] == word:\n",
    "            stack.pop()\n",
    "        else:\n",
    "            stack.append(word)\n",
    "    \n",
    "    return len(stack)\n",
    "sequence = input(\"Enter the sequence of words: \").split()\n",
    "remaining_words = check_pairwise_destruction(sequence)\n",
    "print(\"Number of words left after pairwise destruction:\", remaining_words)"
   ]
  },
  {
   "cell_type": "markdown",
   "id": "6796a22f",
   "metadata": {},
   "source": [
    "<aside>\n",
    "💡 **Question 8**\n",
    "\n",
    "Given an array of integers, the task is to find the maximum absolute difference between the nearest left and the right smaller element of every element in the array.\n",
    "\n",
    "**Note:** If there is no smaller element on right side or left side of any element then we take zero as the smaller element. For example for the leftmost element, the nearest smaller element on the left side is considered as 0. Similarly, for rightmost elements, the smaller element on the right side is considered as 0.\n",
    "\n",
    "</aside>"
   ]
  },
  {
   "cell_type": "code",
   "execution_count": 7,
   "id": "2c3ae126",
   "metadata": {},
   "outputs": [
    {
     "name": "stdout",
     "output_type": "stream",
     "text": [
      "4\n"
     ]
    }
   ],
   "source": [
    "def maxAbsDifference(arr):\n",
    "    n = len(arr)\n",
    "    LS = [0] * n\n",
    "    RS = [0] * n\n",
    "    stack = []\n",
    "\n",
    "    # Find the nearest smaller elements on the right side\n",
    "    for i in range(n):\n",
    "        while stack and arr[i] < arr[stack[-1]]:\n",
    "            RS[stack.pop()] = arr[i]\n",
    "        stack.append(i)\n",
    "\n",
    "    stack.clear()\n",
    "\n",
    "    # Find the nearest smaller elements on the left side\n",
    "    for i in range(n - 1, -1, -1):\n",
    "        while stack and arr[i] < arr[stack[-1]]:\n",
    "            LS[stack.pop()] = arr[i]\n",
    "        stack.append(i)\n",
    "\n",
    "    maxDiff = 0\n",
    "\n",
    "    # Calculate the maximum absolute difference\n",
    "    for i in range(n):\n",
    "        diff = abs(LS[i] - RS[i])\n",
    "        maxDiff = max(maxDiff, diff)\n",
    "\n",
    "    return maxDiff\n",
    "     \n",
    "\n",
    "arr = [2, 4, 8, 7, 7, 9, 3]\n",
    "result = maxAbsDifference(arr)\n",
    "print(result)\n",
    "     "
   ]
  },
  {
   "cell_type": "code",
   "execution_count": null,
   "id": "101ea46f",
   "metadata": {},
   "outputs": [],
   "source": []
  }
 ],
 "metadata": {
  "kernelspec": {
   "display_name": "Python 3 (ipykernel)",
   "language": "python",
   "name": "python3"
  },
  "language_info": {
   "codemirror_mode": {
    "name": "ipython",
    "version": 3
   },
   "file_extension": ".py",
   "mimetype": "text/x-python",
   "name": "python",
   "nbconvert_exporter": "python",
   "pygments_lexer": "ipython3",
   "version": "3.9.12"
  }
 },
 "nbformat": 4,
 "nbformat_minor": 5
}
