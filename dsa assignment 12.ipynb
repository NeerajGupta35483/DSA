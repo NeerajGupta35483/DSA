{
 "cells": [
  {
   "cell_type": "markdown",
   "id": "7bb402c3",
   "metadata": {},
   "source": [
    "Question 1\n",
    "\n",
    "Given a singly linked list, delete middle of the linked list. For example, if given linked list is 1->2->3->4->5 then linked list should be modified to 1->2->4->5.If there are even nodes, then there would be two middle nodes, we need to delete the second middle element. For example, if given linked list is 1->2->3->4->5->6 then it should be modified to 1->2->3->5->6.If the input linked list is NULL or has 1 node, then it should return NULL"
   ]
  },
  {
   "cell_type": "code",
   "execution_count": 2,
   "id": "79f077e0",
   "metadata": {},
   "outputs": [
    {
     "name": "stdout",
     "output_type": "stream",
     "text": [
      "Original Linked List:\n",
      "1 2 3 4 5 \n",
      "Modified Linked List:\n",
      "1 2 4 5 \n"
     ]
    }
   ],
   "source": [
    "class ListNode:\n",
    "    def __init__(self, val=0, next=None):\n",
    "        self.val = val\n",
    "        self.next = next\n",
    "\n",
    "def deleteMiddleNode(head):\n",
    "    # If the linked list is empty or has only one node, return the head\n",
    "    if not head or not head.next:\n",
    "        return head\n",
    "    \n",
    "    # Initialize slow and fast pointers\n",
    "    slow = head\n",
    "    fast = head\n",
    "    prev = None\n",
    "    \n",
    "    # Move the fast pointer two nodes at a time and the slow pointer one node at a time\n",
    "    while fast and fast.next:\n",
    "        fast = fast.next.next\n",
    "        prev = slow\n",
    "        slow = slow.next\n",
    "    \n",
    "    # Delete the middle node(s) by bypassing it\n",
    "    prev.next = slow.next\n",
    "    \n",
    "    return head\n",
    "def printLinkedList(head):\n",
    "    curr = head\n",
    "    while curr:\n",
    "        print(curr.val, end=\" \")\n",
    "        curr = curr.next\n",
    "    print()\n",
    "# Example 1\n",
    "head1 = ListNode(1)\n",
    "head1.next = ListNode(2)\n",
    "head1.next.next = ListNode(3)\n",
    "head1.next.next.next = ListNode(4)\n",
    "head1.next.next.next.next = ListNode(5)\n",
    "print(\"Original Linked List:\")\n",
    "printLinkedList(head1)\n",
    "head1 = deleteMiddleNode(head1)\n",
    "print(\"Modified Linked List:\")\n",
    "printLinkedList(head1)     "
   ]
  },
  {
   "cell_type": "markdown",
   "id": "2de30b2d",
   "metadata": {},
   "source": [
    "Question 2\n",
    "\n",
    "Given a linked list of N nodes. The task is to check if the linked list has a loop. Linked list can contain self loop."
   ]
  },
  {
   "cell_type": "code",
   "execution_count": 3,
   "id": "acd40926",
   "metadata": {},
   "outputs": [
    {
     "name": "stdout",
     "output_type": "stream",
     "text": [
      "True\n"
     ]
    }
   ],
   "source": [
    "class ListNode:\n",
    "    def __init__(self, val=0, next=None):\n",
    "        self.val = val\n",
    "        self.next = next\n",
    "\n",
    "def hasLoop(head):\n",
    "    # If the linked list is empty, return False\n",
    "    if not head:\n",
    "        return False\n",
    "    \n",
    "    # Initialize slow and fast pointers\n",
    "    slow = head\n",
    "    fast = head.next\n",
    "    \n",
    "    # Move the pointers until they meet or reach the end of the list\n",
    "    while fast and fast.next:\n",
    "        if slow == fast:\n",
    "            return True\n",
    "        slow = slow.next\n",
    "        fast = fast.next.next\n",
    "    \n",
    "    # If the fast pointer reaches the end, there is no loop\n",
    "    return False\n",
    "     \n",
    "\n",
    "# Example 1\n",
    "head1 = ListNode(1)\n",
    "head1.next = ListNode(3)\n",
    "head1.next.next = ListNode(4)\n",
    "head1.next.next.next = head1.next\n",
    "print(hasLoop(head1))  "
   ]
  },
  {
   "cell_type": "markdown",
   "id": "4757f3d2",
   "metadata": {},
   "source": [
    "Question 3\n",
    "\n",
    "Given a linked list consisting of **L** nodes and given a number **N**. The task is to find the **N**th node from the end of the linked list.\n",
    "\n"
   ]
  },
  {
   "cell_type": "code",
   "execution_count": 4,
   "id": "f80f1844",
   "metadata": {},
   "outputs": [
    {
     "name": "stdout",
     "output_type": "stream",
     "text": [
      "7\n"
     ]
    }
   ],
   "source": [
    "class ListNode:\n",
    "    def __init__(self, val=0, next=None):\n",
    "        self.val = val\n",
    "        self.next = next\n",
    "\n",
    "def nthNodeFromEnd(head, N):\n",
    "    if not head:\n",
    "        return None\n",
    "    \n",
    "    # Initialize the fast and slow pointers\n",
    "    fast = head\n",
    "    slow = head\n",
    "    \n",
    "    # Move the fast pointer N nodes ahead of the slow pointer\n",
    "    for _ in range(N):\n",
    "        if not fast:\n",
    "            # N is greater than the number of nodes in the linked list\n",
    "            return None\n",
    "        fast = fast.next\n",
    "    \n",
    "    # Move both pointers simultaneously until the fast pointer reaches the end\n",
    "    while fast and fast.next:\n",
    "        slow = slow.next\n",
    "        fast = fast.next\n",
    "    \n",
    "    # The slow pointer will be pointing to the Nth node from the end\n",
    "    return slow.val\n",
    "     \n",
    "\n",
    "# Example 1\n",
    "head1 = ListNode(1)\n",
    "head1.next = ListNode(2)\n",
    "head1.next.next = ListNode(3)\n",
    "head1.next.next.next = ListNode(4)\n",
    "head1.next.next.next.next = ListNode(5)\n",
    "head1.next.next.next.next.next = ListNode(6)\n",
    "head1.next.next.next.next.next.next = ListNode(7)\n",
    "head1.next.next.next.next.next.next.next = ListNode(8)\n",
    "head1.next.next.next.next.next.next.next.next = ListNode(9)\n",
    "print(nthNodeFromEnd(head1, 2))  \n"
   ]
  },
  {
   "cell_type": "markdown",
   "id": "c77e0d6e",
   "metadata": {},
   "source": [
    "Question 4\n",
    "\n",
    "\n",
    "Given a singly linked list of characters, write a function that returns true if the given list is a palindrome, else false."
   ]
  },
  {
   "cell_type": "code",
   "execution_count": 5,
   "id": "f2be61ef",
   "metadata": {},
   "outputs": [
    {
     "name": "stdout",
     "output_type": "stream",
     "text": [
      "True\n"
     ]
    }
   ],
   "source": [
    "class ListNode:\n",
    "    def __init__(self, val=0, next=None):\n",
    "        self.val = val\n",
    "        self.next = next\n",
    "\n",
    "def isPalindrome(head):\n",
    "    # Edge case: If the linked list is empty, it is a palindrome\n",
    "    if not head:\n",
    "        return True\n",
    "    \n",
    "    # Step 1: Traverse the linked list and store the values in a list\n",
    "    values = []\n",
    "    current = head\n",
    "    while current:\n",
    "        values.append(current.val)\n",
    "        current = current.next\n",
    "    \n",
    "    # Step 2: Create a reversed version of the list\n",
    "    reversed_values = values[::-1]\n",
    "    \n",
    "    # Step 3: Compare the original list with the reversed version\n",
    "    return values == reversed_values\n",
    "     \n",
    "\n",
    "# Example 1\n",
    "head1 = ListNode('R')\n",
    "head1.next = ListNode('A')\n",
    "head1.next.next = ListNode('D')\n",
    "head1.next.next.next = ListNode('A')\n",
    "head1.next.next.next.next = ListNode('R')\n",
    "print(isPalindrome(head1))  "
   ]
  },
  {
   "cell_type": "markdown",
   "id": "920040f7",
   "metadata": {},
   "source": [
    "Question 5\n",
    "\n",
    "\n",
    "Given a linked list of **N** nodes such that it may contain a loop.\n",
    "\n",
    "A loop here means that the last node of the link list is connected to the node at position X(1-based index). If the link list does not have any loop, X=0.\n",
    "\n",
    "Remove the loop from the linked list, if it is present, i.e. unlink the last node which is forming the loop."
   ]
  },
  {
   "cell_type": "code",
   "execution_count": 6,
   "id": "ae02fbfd",
   "metadata": {},
   "outputs": [
    {
     "name": "stdout",
     "output_type": "stream",
     "text": [
      "1 3 4 \n"
     ]
    }
   ],
   "source": [
    "class ListNode:\n",
    "    def __init__(self, val=0, next=None):\n",
    "        self.val = val\n",
    "        self.next = next\n",
    "\n",
    "def detectAndRemoveLoop(head):\n",
    "    if not head or not head.next:\n",
    "        return head\n",
    "    \n",
    "    slow = head\n",
    "    fast = head\n",
    "    \n",
    "    while fast and fast.next:\n",
    "        slow = slow.next\n",
    "        fast = fast.next.next\n",
    "        \n",
    "        if slow == fast:\n",
    "            break\n",
    "    \n",
    "    # No loop found\n",
    "    if not fast or not fast.next:\n",
    "        return head\n",
    "    \n",
    "    slow = head\n",
    "    while slow.next != fast.next:\n",
    "        slow = slow.next\n",
    "        fast = fast.next\n",
    "    \n",
    "    # Remove the loop\n",
    "    fast.next = None\n",
    "    \n",
    "    return head\n",
    "# Test the function\n",
    "# Example 1\n",
    "head1 = ListNode(1)\n",
    "head1.next = ListNode(3)\n",
    "head1.next.next = ListNode(4)\n",
    "head1.next.next.next = head1.next \n",
    "\n",
    "new_head1 = detectAndRemoveLoop(head1)\n",
    "current1 = new_head1\n",
    "while current1:\n",
    "    print(current1.val, end=\" \")\n",
    "    current1 = current1.next\n",
    "print()"
   ]
  },
  {
   "cell_type": "markdown",
   "id": "5b34f5bc",
   "metadata": {},
   "source": [
    "Question 6\n",
    "\n",
    "\n",
    "Given a linked list and two integers M and N. Traverse the linked list such that you retain M nodes then delete next N nodes, continue the same till end of the linked list.\n",
    "\n",
    "Difficulty Level: Rookie"
   ]
  },
  {
   "cell_type": "code",
   "execution_count": 7,
   "id": "230ccc0e",
   "metadata": {},
   "outputs": [
    {
     "name": "stdout",
     "output_type": "stream",
     "text": [
      "1 2 5 6 \n"
     ]
    }
   ],
   "source": [
    "class ListNode:\n",
    "    def __init__(self, val=0, next=None):\n",
    "        self.val = val\n",
    "        self.next = next\n",
    "\n",
    "def deleteNodes(head, M, N):\n",
    "    if not head:\n",
    "        return None\n",
    "    \n",
    "    current = head\n",
    "    \n",
    "    while current:\n",
    "        for _ in range(M - 1):\n",
    "            if not current:\n",
    "                break\n",
    "            current = current.next\n",
    "        \n",
    "        if not current:\n",
    "            break\n",
    "        \n",
    "        temp = current.next\n",
    "        \n",
    "        for _ in range(N):\n",
    "            if not temp:\n",
    "                break\n",
    "            temp = temp.next\n",
    "        \n",
    "        current.next = temp\n",
    "        current = temp\n",
    "    \n",
    "    return head\n",
    "# Test Case 1\n",
    "head1 = ListNode(1)\n",
    "head1.next = ListNode(2)\n",
    "head1.next.next = ListNode(3)\n",
    "head1.next.next.next = ListNode(4)\n",
    "head1.next.next.next.next = ListNode(5)\n",
    "head1.next.next.next.next.next = ListNode(6)\n",
    "head1.next.next.next.next.next.next = ListNode(7)\n",
    "head1.next.next.next.next.next.next.next = ListNode(8)\n",
    "\n",
    "new_head1 = deleteNodes(head1, 2, 2)\n",
    "\n",
    "# Traverse the modified linked list and print the values\n",
    "while new_head1:\n",
    "    print(new_head1.val, end=\" \")\n",
    "    new_head1 = new_head1.next\n",
    "\n",
    "print()"
   ]
  },
  {
   "cell_type": "markdown",
   "id": "cbe1b916",
   "metadata": {},
   "source": [
    "Question 7\n",
    "\n",
    "\n",
    "Given two linked lists, insert nodes of second list into first list at alternate positions of first list.\n",
    "For example, if first list is 5->7->17->13->11 and second is 12->10->2->4->6, the first list should become 5->12->7->10->17->2->13->4->11->6 and second list should become empty. The nodes of second list should only be inserted when there are positions available. For example, if the first list is 1->2->3 and second list is 4->5->6->7->8, then first list should become 1->4->2->5->3->6 and second list to 7->8.\n",
    "\n",
    "Use of extra space is not allowed (Not allowed to create additional nodes), i.e., insertion must be done in-place. Expected time complexity is O(n) where n is number of nodes in first list."
   ]
  },
  {
   "cell_type": "code",
   "execution_count": 8,
   "id": "5eae342d",
   "metadata": {},
   "outputs": [
    {
     "name": "stdout",
     "output_type": "stream",
     "text": [
      "5 12 7 10 17 2 13 4 11 6 \n",
      "12 7 10 17 2 13 4 11 6 "
     ]
    }
   ],
   "source": [
    "class ListNode:\n",
    "    def __init__(self, val=0, next=None):\n",
    "        self.val = val\n",
    "        self.next = next\n",
    "\n",
    "def mergeLists(first, second):\n",
    "    if not second:\n",
    "        return first\n",
    "    \n",
    "    curr1 = first\n",
    "    curr2 = second\n",
    "    \n",
    "    while curr1 and curr2:\n",
    "        next1 = curr1.next\n",
    "        next2 = curr2.next\n",
    "        \n",
    "        curr1.next = curr2\n",
    "        curr2.next = next1\n",
    "        \n",
    "        curr1 = next1\n",
    "        curr2 = next2\n",
    "    \n",
    "    return first\n",
    "# Test the function\n",
    "# Create the first linked list: 5->7->17->13->11\n",
    "head1 = ListNode(5)\n",
    "head1.next = ListNode(7)\n",
    "head1.next.next = ListNode(17)\n",
    "head1.next.next.next = ListNode(13)\n",
    "head1.next.next.next.next = ListNode(11)\n",
    "\n",
    "# Create the second linked list: 12->10->2->4->6\n",
    "head2 = ListNode(12)\n",
    "head2.next = ListNode(10)\n",
    "head2.next.next = ListNode(2)\n",
    "head2.next.next.next = ListNode(4)\n",
    "head2.next.next.next.next = ListNode(6)\n",
    "\n",
    "# Merge the second list into the first list\n",
    "merged_head = mergeLists(head1, head2)\n",
    "\n",
    "# Traverse the modified first list and print the values\n",
    "while merged_head:\n",
    "    print(merged_head.val, end=\" \")\n",
    "    merged_head = merged_head.next\n",
    "\n",
    "\n",
    "# Print the second list (which should be empty)\n",
    "print()\n",
    "\n",
    "# Traverse the second list and print the values (should be empty)\n",
    "while head2:\n",
    "    print(head2.val, end=\" \")\n",
    "    head2 = head2.next\n"
   ]
  },
  {
   "cell_type": "markdown",
   "id": "281b339f",
   "metadata": {},
   "source": [
    "Question 8\n",
    "\n",
    "\n",
    "Given a singly linked list, find if the linked list is [circular](https://www.geeksforgeeks.org/circular-linked-list/amp/) or not.\n",
    "\n",
    "> A linked list is called circular if it is not NULL-terminated and all nodes are connected in the form of a cycle. Below is an example of a circular linked list.\n",
    ">"
   ]
  },
  {
   "cell_type": "code",
   "execution_count": 9,
   "id": "31de34e2",
   "metadata": {},
   "outputs": [
    {
     "name": "stdout",
     "output_type": "stream",
     "text": [
      "True\n"
     ]
    }
   ],
   "source": [
    "class ListNode:\n",
    "    def __init__(self, val=0, next=None):\n",
    "        self.val = val\n",
    "        self.next = next\n",
    "\n",
    "def isCircular(head):\n",
    "    if not head:\n",
    "        return False\n",
    "    \n",
    "    tortoise = head\n",
    "    hare = head.next\n",
    "    \n",
    "    while hare and hare.next:\n",
    "        if tortoise == hare:\n",
    "            return True\n",
    "        \n",
    "        tortoise = tortoise.next\n",
    "        hare = hare.next.next\n",
    "    \n",
    "    return False\n",
    "# Create a circular linked list: 1->2->3->4->5->2 (linked back to the second node)\n",
    "head = ListNode(1)\n",
    "head.next = ListNode(2)\n",
    "head.next.next = ListNode(3)\n",
    "\n",
    "head.next.next.next = ListNode(4)\n",
    "head.next.next.next.next = ListNode(5)\n",
    "head.next.next.next.next.next = head.next\n",
    "\n",
    "# Check if the linked list is circular\n",
    "circular = isCircular(head)\n",
    "print(circular)"
   ]
  },
  {
   "cell_type": "code",
   "execution_count": null,
   "id": "244aaf54",
   "metadata": {},
   "outputs": [],
   "source": []
  }
 ],
 "metadata": {
  "kernelspec": {
   "display_name": "Python 3 (ipykernel)",
   "language": "python",
   "name": "python3"
  },
  "language_info": {
   "codemirror_mode": {
    "name": "ipython",
    "version": 3
   },
   "file_extension": ".py",
   "mimetype": "text/x-python",
   "name": "python",
   "nbconvert_exporter": "python",
   "pygments_lexer": "ipython3",
   "version": "3.9.12"
  }
 },
 "nbformat": 4,
 "nbformat_minor": 5
}
