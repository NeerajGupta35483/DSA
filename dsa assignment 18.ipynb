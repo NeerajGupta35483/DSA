{
 "cells": [
  {
   "cell_type": "markdown",
   "id": "f182675f",
   "metadata": {},
   "source": [
    "Given an array of intervals where intervals[i] = [starti, endi], merge all overlapping intervals, and return an array of the non-overlapping intervals that cover all the intervals in the input.\n",
    "\n",
    "Constraints:\n",
    "\n",
    "1 <= intervals.length <= 10000\n",
    "intervals[i].length == 2\n",
    "0 <= starti <= endi <= 10000"
   ]
  },
  {
   "cell_type": "code",
   "execution_count": 1,
   "id": "dd7ddff7",
   "metadata": {},
   "outputs": [
    {
     "name": "stdout",
     "output_type": "stream",
     "text": [
      "[[1, 6], [8, 10], [15, 18]]\n"
     ]
    }
   ],
   "source": [
    "def merge_intervals(intervals):\n",
    "    if not intervals:\n",
    "        return []\n",
    "\n",
    "    intervals.sort(key=lambda x: x[0])  # Sort intervals based on start times\n",
    "    merged = [intervals[0]]\n",
    "\n",
    "    for i in range(1, len(intervals)):\n",
    "        prev_start, prev_end = merged[-1]\n",
    "        curr_start, curr_end = intervals[i]\n",
    "\n",
    "        if curr_start <= prev_end:\n",
    "            merged[-1] = [prev_start, max(prev_end, curr_end)]\n",
    "        else:\n",
    "            merged.append([curr_start, curr_end])\n",
    "\n",
    "    return merged\n",
    "intervals = [[1, 3], [2, 6], [8, 10], [15, 18]]\n",
    "merged_intervals = merge_intervals(intervals)\n",
    "print(merged_intervals)"
   ]
  },
  {
   "cell_type": "markdown",
   "id": "ab5ff2a1",
   "metadata": {},
   "source": [
    "💡 2. Sort Colors\n",
    "\n",
    "Given an array nums with n objects colored red, white, or blue, sort them in-place so that objects of the same color are adjacent, with the colors in the order red, white, and blue.\n",
    "\n",
    "We will use the integers 0, 1, and 2 to represent the color red, white, and blue, respectively.\n",
    "\n",
    "You must solve this problem without using the library's sort function."
   ]
  },
  {
   "cell_type": "code",
   "execution_count": 2,
   "id": "299408e9",
   "metadata": {},
   "outputs": [
    {
     "name": "stdout",
     "output_type": "stream",
     "text": [
      "[0, 0, 1, 1, 2, 2]\n"
     ]
    }
   ],
   "source": [
    "def sort_colors(nums):\n",
    "    low = 0\n",
    "    mid = 0\n",
    "    high = len(nums) - 1\n",
    "\n",
    "    while mid <= high:\n",
    "        if nums[mid] == 0:\n",
    "            nums[low], nums[mid] = nums[mid], nums[low]\n",
    "            low += 1\n",
    "            mid += 1\n",
    "        elif nums[mid] == 1:\n",
    "            mid += 1\n",
    "        else:\n",
    "            nums[mid], nums[high] = nums[high], nums[mid]\n",
    "            high -= 1\n",
    "\n",
    "    return nums\n",
    "nums = [2, 0, 2, 1, 1, 0]\n",
    "sorted_nums = sort_colors(nums)\n",
    "print(sorted_nums)"
   ]
  },
  {
   "cell_type": "markdown",
   "id": "d0099cef",
   "metadata": {},
   "source": [
    "\n",
    "💡 3. First Bad Version Solution\n",
    "\n",
    "You are a product manager and currently leading a team to develop a new product. Unfortunately, the latest version of your product fails the quality check. Since each version is developed based on the previous version, all the versions after a bad version are also bad.\n",
    "\n",
    "Suppose you have n versions [1, 2, ..., n] and you want to find out the first bad one, which causes all the following ones to be bad.\n",
    "\n",
    "You are given an API bool isBadVersion(version) which returns whether version is bad. Implement a function to find the first bad version. You should minimize the number of calls to the API.\n",
    "\n"
   ]
  },
  {
   "cell_type": "code",
   "execution_count": 3,
   "id": "5396f601",
   "metadata": {},
   "outputs": [
    {
     "name": "stdout",
     "output_type": "stream",
     "text": [
      "The first bad version is: 10\n"
     ]
    }
   ],
   "source": [
    "def isBadVersion(version):\n",
    "    \n",
    "    pass\n",
    "def first_bad_version(n):\n",
    "    left = 1\n",
    "    right = n\n",
    "\n",
    "    while left < right:\n",
    "        mid = left + (right - left) // 2\n",
    "        if isBadVersion(mid):\n",
    "            right = mid\n",
    "        else:\n",
    "            left = mid + 1\n",
    "\n",
    "    return left\n",
    "n = 10\n",
    "first_bad = first_bad_version(n)\n",
    "print(\"The first bad version is:\", first_bad)"
   ]
  },
  {
   "cell_type": "markdown",
   "id": "98d599b4",
   "metadata": {},
   "source": [
    "💡 4. Maximum Gap\n",
    "\n",
    "Given an integer array nums, return the maximum difference between two successive elements in its sorted form. If the array contains less than two elements, return 0.\n",
    "\n",
    "You must write an algorithm that runs in linear time and uses linear extra space. Constraints:\n",
    "\n",
    "1 <= nums.length <= 10^5\n",
    "0 <= nums[i] <= 10^9"
   ]
  },
  {
   "cell_type": "code",
   "execution_count": 4,
   "id": "78606bb0",
   "metadata": {},
   "outputs": [
    {
     "name": "stdout",
     "output_type": "stream",
     "text": [
      "Maximum gap: 3\n"
     ]
    }
   ],
   "source": [
    "def maximum_gap(nums):\n",
    "    if len(nums) < 2:\n",
    "        return 0\n",
    "\n",
    "    # Perform radix sort\n",
    "    max_num = max(nums)\n",
    "    exp = 1\n",
    "    n = len(nums)\n",
    "    sorted_nums = [0] * n\n",
    "\n",
    "    while max_num // exp > 0:\n",
    "        count = [0] * 10\n",
    "\n",
    "        for num in nums:\n",
    "            digit = (num // exp) % 10\n",
    "            count[digit] += 1\n",
    "\n",
    "        for i in range(1, 10):\n",
    "            count[i] += count[i - 1]\n",
    "\n",
    "        for i in range(n - 1, -1, -1):\n",
    "            num = nums[i]\n",
    "            digit = (num // exp) % 10\n",
    "            sorted_nums[count[digit] - 1] = num\n",
    "            count[digit] -= 1\n",
    "\n",
    "        nums = sorted_nums.copy()\n",
    "        exp *= 10\n",
    "\n",
    "    max_gap = 0\n",
    "    for i in range(1, n):\n",
    "        max_gap = max(max_gap, nums[i] - nums[i - 1])\n",
    "\n",
    "    return max_gap\n",
    "nums = [3, 6, 9, 1]\n",
    "max_gap = maximum_gap(nums)\n",
    "print(\"Maximum gap:\", max_gap)"
   ]
  },
  {
   "cell_type": "markdown",
   "id": "9c2f1f53",
   "metadata": {},
   "source": [
    "5. Contains Duplicate\n",
    "\n",
    "Given an integer array nums, return true if any value appears at least twice in the array, and return false if every element is distinct.\n",
    "\n",
    "Constraints:\n",
    "\n",
    "1 <= nums.length <= 10^5\n",
    "109 <= nums[i] <= 10^9"
   ]
  },
  {
   "cell_type": "code",
   "execution_count": 5,
   "id": "7d10b934",
   "metadata": {},
   "outputs": [
    {
     "name": "stdout",
     "output_type": "stream",
     "text": [
      "Contains duplicate: True\n"
     ]
    }
   ],
   "source": [
    "def contains_duplicate(nums):\n",
    "    num_set = set()\n",
    "\n",
    "    for num in nums:\n",
    "        if num in num_set:\n",
    "            return True\n",
    "        num_set.add(num)\n",
    "\n",
    "    return False\n",
    "nums = [1, 2, 3, 1]\n",
    "contains_dup = contains_duplicate(nums)\n",
    "print(\"Contains duplicate:\", contains_dup)"
   ]
  },
  {
   "cell_type": "markdown",
   "id": "267f6af3",
   "metadata": {},
   "source": [
    "6. Minimum Number of Arrows to Burst Balloons\n",
    "\n",
    "There are some spherical balloons taped onto a flat wall that represents the XY-plane. The balloons are represented as a 2D integer array points where points[i] = [xstart, xend] denotes a balloon whose horizontal diameter stretches between xstart and xend. You do not know the exact y-coordinates of the balloons.\n",
    "\n",
    "Arrows can be shot up directly vertically (in the positive y-direction) from different points along the x-axis. A balloon with xstart and xend is burst by an arrow shot at x if xstart <= x <= xend. There is no limit to the number of arrows that can be shot. A shot arrow keeps traveling up infinitely, bursting any balloons in its path.\n",
    "\n",
    "Given the array points, return the minimum number of arrows that must be shot to burst all balloons."
   ]
  },
  {
   "cell_type": "code",
   "execution_count": 6,
   "id": "28cecf4e",
   "metadata": {},
   "outputs": [
    {
     "name": "stdout",
     "output_type": "stream",
     "text": [
      "Minimum number of arrows: 2\n"
     ]
    }
   ],
   "source": [
    "def findMinArrowShots(points):\n",
    "    if not points:\n",
    "        return 0\n",
    "\n",
    "    # Sort the balloons based on their end coordinates\n",
    "    points.sort(key=lambda x: x[1])\n",
    "\n",
    "    arrow_count = 1\n",
    "    curr_end = points[0][1]\n",
    "\n",
    "    for i in range(1, len(points)):\n",
    "        if points[i][0] > curr_end:\n",
    "            # The current balloon requires a new arrow\n",
    "            arrow_count += 1\n",
    "            curr_end = points[i][1]\n",
    "\n",
    "    return arrow_count\n",
    "points = [[10,16], [2,8], [1,6], [7,12]]\n",
    "min_arrows = findMinArrowShots(points)\n",
    "print(\"Minimum number of arrows:\", min_arrows)"
   ]
  },
  {
   "cell_type": "markdown",
   "id": "a4f33dbe",
   "metadata": {},
   "source": [
    " 7. Longest Increasing Subsequence\n",
    "\n",
    "Given an integer array nums, return the length of the longest strictly increasing subsequence**"
   ]
  },
  {
   "cell_type": "code",
   "execution_count": 7,
   "id": "1e4ab178",
   "metadata": {},
   "outputs": [],
   "source": [
    "def lengthOfLIS(nums):\n",
    "    if not nums:\n",
    "        return 0\n",
    "\n",
    "    n = len(nums)\n",
    "    dp = [1] * n\n",
    "\n",
    "    for i in range(1, n):\n",
    "        for j in range(i):\n",
    "            if nums[i] > nums[j]:\n",
    "                dp[i] = max(dp[i], dp[j] + 1)\n",
    "\n",
    "    return max(dp)"
   ]
  },
  {
   "cell_type": "markdown",
   "id": "2bfcee87",
   "metadata": {},
   "source": [
    "8. 132 Pattern\n",
    "\n",
    "For a stream of integers, implement a data structure that checks if the last k integers parsed in the stream are equal to value.\n",
    "\n",
    "Implement the DataStream class:\n",
    "\n",
    "DataStream(int value, int k) Initializes the object with an empty integer stream and the two integers value and k.\n",
    "boolean consec(int num) Adds num to the stream of integers. Returns true if the last k integers are equal to value, and false otherwise. If there are less than k integers, the condition does not hold true, so returns false."
   ]
  },
  {
   "cell_type": "code",
   "execution_count": 8,
   "id": "1857ab39",
   "metadata": {},
   "outputs": [
    {
     "name": "stdout",
     "output_type": "stream",
     "text": [
      "False\n",
      "True\n"
     ]
    }
   ],
   "source": [
    "def find132pattern(nums):\n",
    "    stack = []\n",
    "    max_num = float('-inf')\n",
    "\n",
    "    # Iterate over the array from right to left\n",
    "    for i in range(len(nums)-1, -1, -1):\n",
    "        num = nums[i]\n",
    "\n",
    "        # Check if current number is greater than the maximum number encountered so far\n",
    "        if num < max_num:\n",
    "            return True\n",
    "\n",
    "        # Process potential 132 pattern candidates\n",
    "        while stack and num > stack[-1]:\n",
    "            max_num = stack.pop()\n",
    "\n",
    "        stack.append(num)\n",
    "\n",
    "    return False\n",
    "nums = [1, 2, 3, 4]\n",
    "print(find132pattern(nums))  \n",
    "\n",
    "nums = [3, 1, 4, 2]\n",
    "print(find132pattern(nums)) "
   ]
  },
  {
   "cell_type": "code",
   "execution_count": null,
   "id": "1ac9a69f",
   "metadata": {},
   "outputs": [],
   "source": []
  }
 ],
 "metadata": {
  "kernelspec": {
   "display_name": "Python 3 (ipykernel)",
   "language": "python",
   "name": "python3"
  },
  "language_info": {
   "codemirror_mode": {
    "name": "ipython",
    "version": 3
   },
   "file_extension": ".py",
   "mimetype": "text/x-python",
   "name": "python",
   "nbconvert_exporter": "python",
   "pygments_lexer": "ipython3",
   "version": "3.9.12"
  }
 },
 "nbformat": 4,
 "nbformat_minor": 5
}
